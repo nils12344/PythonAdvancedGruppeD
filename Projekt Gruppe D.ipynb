{
 "cells": [
  {
   "cell_type": "markdown",
   "metadata": {},
   "source": [
    "# Python Advanced Projektarbeit - Gruppe D  <a class=\"anchor\" id=\"Anfang\"></a>\n",
    "\n",
    "__________________________________________\n",
    "Quelle:\n",
    "\n",
    "Autor: \n",
    "\n",
    "Datum:\n",
    "\n",
    "\n",
    "__________________________________________\n",
    "\n",
    "#### Inhaltsverzeichnis:\n",
    "\n",
    "\n",
    "1. [Introduction](#1)\n",
    "2. [Importing the libraries](#2)\n",
    "3. [Import the data](#3)\n",
    "4. [Answering Research Questions - Descriptive Statistics](#4)\n",
    "5. [Development of a Machine Learning Model End to End Process](#5)\n",
    "6. [Conclusion](#6)\n",
    "7. [Data Science Best Practice Guidlines for ML-Model Development](#7)\n",
    "8. [Limitations](#8)"
   ]
  },
  {
   "cell_type": "markdown",
   "metadata": {},
   "source": [
    "# 1 Introduction <a class=\"anchor\" id=\"1\"></a>"
   ]
  }
 ],
 "metadata": {
  "interpreter": {
   "hash": "68cb6f98dd6b38cfe9307fdb4e940ddeeb5d92091c028e6c7c1953581f4a5d4c"
  },
  "kernelspec": {
   "display_name": "Python 3.8.8 ('base')",
   "language": "python",
   "name": "python3"
  },
  "language_info": {
   "codemirror_mode": {
    "name": "ipython",
    "version": 3
   },
   "file_extension": ".py",
   "mimetype": "text/x-python",
   "name": "python",
   "nbconvert_exporter": "python",
   "pygments_lexer": "ipython3",
   "version": "3.8.8"
  },
  "orig_nbformat": 4
 },
 "nbformat": 4,
 "nbformat_minor": 2
}
